{
  "nbformat": 4,
  "nbformat_minor": 0,
  "metadata": {
    "colab": {
      "provenance": []
    },
    "kernelspec": {
      "name": "python3",
      "display_name": "Python 3"
    },
    "language_info": {
      "name": "python"
    }
  },
  "cells": [
    {
      "cell_type": "code",
      "source": [
        "# 해당 코드는 https://woosikyang.github.io/first-post.html 을 참고하여 구성하였습니다"
      ],
      "metadata": {
        "id": "5epTkvH1bXX3"
      },
      "execution_count": 2,
      "outputs": []
    },
    {
      "cell_type": "code",
      "source": [
        "import pylab as pl\n",
        "import numpy as np\n",
        "\n",
        "import pylab as pl\n",
        "import numpy as np\n",
        "import pandas as pd\n",
        "\n",
        "import torch\n",
        "import torchvision.transforms as transforms\n",
        "\n",
        "import matplotlib.pyplot as plt\n",
        "\n",
        "from PIL import Image\n",
        "import cv2"
      ],
      "metadata": {
        "id": "VRbWexh1cVtZ"
      },
      "execution_count": 10,
      "outputs": []
    },
    {
      "cell_type": "markdown",
      "source": [
        "# Swiss roll 정의 함수"
      ],
      "metadata": {
        "id": "cc9ownlZcBhi"
      }
    },
    {
      "cell_type": "code",
      "source": [
        "# Swissroll 정의\n",
        "def swissroll():\n",
        "    N = 1000\n",
        "    noise = 0.05\n",
        "    t = 3 * np.pi / 2 * (1 + 2 * np.random.rand(1, N))\n",
        "    h = 21 * np.random.rand(1, N)\n",
        "    data = np.concatenate((t * np.cos(t), h, t * np.sin(t))) + noise * np.random.randn(3, N)\n",
        "    return np.transpose(data), np.squeeze(t)"
      ],
      "metadata": {
        "id": "arDLWRYSbXcA"
      },
      "execution_count": 5,
      "outputs": []
    },
    {
      "cell_type": "markdown",
      "source": [
        "# LLE 함수"
      ],
      "metadata": {
        "id": "3tG-uJZtbxFd"
      }
    },
    {
      "cell_type": "code",
      "source": [
        "def LLE(data, nRedDim=2, K=12):\n",
        "    ndata = np.shape(data)[0]\n",
        "    ndim = np.shape(data)[1]\n",
        "    d = np.zeros((ndata, ndata), dtype=float)\n",
        "    for i in range(ndata):\n",
        "        for j in range(i + 1, ndata):\n",
        "            for k in range(ndim):\n",
        "                d[i, j] += (data[i, k] - data[j, k]) ** 2\n",
        "            d[i, j] = np.sqrt(d[i, j])\n",
        "            d[j, i] = d[i, j]\n",
        "\n",
        "    indices = d.argsort(axis=1)\n",
        "    neighbours = indices[:, 1:K + 1]\n",
        "    W = np.zeros((K, ndata), dtype=float)\n",
        "\n",
        "    for i in range(ndata):\n",
        "        Z = data[neighbours[i, :], :] - np.kron(np.ones((K, 1)), data[i, :])\n",
        "        C = np.dot(Z, np.transpose(Z))\n",
        "        C = C + np.identity(K) * 1e-3 * np.trace(C)\n",
        "        W[:, i] = np.transpose(np.linalg.solve(C, np.ones((K, 1))))\n",
        "        W[:, i] = W[:, i] / np.sum(W[:, i])\n",
        "\n",
        "    M = np.eye(ndata, dtype=float)\n",
        "    for i in range(ndata):\n",
        "        w = np.transpose(np.ones((1, np.shape(W)[0])) * np.transpose(W[:, i]))\n",
        "        j = neighbours[i, :]\n",
        "        ww = np.dot(w, np.transpose(w))\n",
        "        for k in range(K):\n",
        "            M[i, j[k]] -= w[k]\n",
        "            M[j[k], i] -= w[k]\n",
        "            for l in range(K):\n",
        "                M[j[k], j[l]] += ww[k, l]\n",
        "    evals, evecs = np.linalg.eig(M)\n",
        "    ind = np.argsort(evals)\n",
        "    y = evecs[:, ind[1:nRedDim + 1]] * np.sqrt(ndata)\n",
        "    return evals, evecs, y"
      ],
      "metadata": {
        "id": "D732RBRhbXeh"
      },
      "execution_count": 6,
      "outputs": []
    },
    {
      "cell_type": "markdown",
      "source": [
        "# Swissroll Data 생성"
      ],
      "metadata": {
        "id": "aBjNhIAcb5Pp"
      }
    },
    {
      "cell_type": "code",
      "source": [
        "data, t = swissroll()"
      ],
      "metadata": {
        "id": "4jDWTp2rbXhg"
      },
      "execution_count": 7,
      "outputs": []
    },
    {
      "cell_type": "markdown",
      "source": [
        "#LLE"
      ],
      "metadata": {
        "id": "R8oTW6HHcHTY"
      }
    },
    {
      "cell_type": "code",
      "source": [
        "evals, evecs, y = LLE(data)"
      ],
      "metadata": {
        "id": "_bZ7EhaZbXjf"
      },
      "execution_count": 8,
      "outputs": []
    },
    {
      "cell_type": "markdown",
      "source": [
        "# Swissroll 함수 Embedding 공간 시각화"
      ],
      "metadata": {
        "id": "znx1XFfWcMqq"
      }
    },
    {
      "cell_type": "code",
      "source": [
        "t2= t.min()\n",
        "t3= t.max()\n",
        "t = (t-t2) / (t3-t2)\n",
        "pl.scatter(y[:, 0], y[:, 1], s=50, c=t, cmap=pl.cm.gray)\n",
        "pl.axis('off')\n",
        "pl.show()"
      ],
      "metadata": {
        "colab": {
          "base_uri": "https://localhost:8080/",
          "height": 248
        },
        "id": "TKaixbZZbXlN",
        "outputId": "5cb1cba6-c53c-4270-8adc-df66fcdbd62f"
      },
      "execution_count": 9,
      "outputs": [
        {
          "output_type": "display_data",
          "data": {
            "text/plain": [
              "<Figure size 432x288 with 1 Axes>"
            ],
            "image/png": "[encoded data removed]"
          },
          "metadata": {
            "needs_background": "light"
          }
        }
      ]
    },
    {
      "cell_type": "markdown",
      "source": [
        "# Mnist Dataset에 적용"
      ],
      "metadata": {
        "id": "E6kW0wSJcuZZ"
      }
    },
    {
      "cell_type": "markdown",
      "source": [
        "# 데이터 셋 불러오기 "
      ],
      "metadata": {
        "id": "2OP8TR02c7vS"
      }
    },
    {
      "cell_type": "code",
      "source": [
        "Data_set = pd.read_csv('/content/mnist_test.csv')\n",
        "Data_set"
      ],
      "metadata": {
        "colab": {
          "base_uri": "https://localhost:8080/",
          "height": 424
        },
        "id": "xjjpqv5hbFej",
        "outputId": "f67799e2-2f43-4895-9b3c-45f3d9f129e2"
      },
      "execution_count": 19,
      "outputs": [
        {
          "output_type": "execute_result",
          "data": {
            "text/plain": [
              "      label  1x1  1x2  1x3  1x4  1x5  1x6  1x7  1x8  1x9  ...  28x19  28x20  \\\n",
              "0         7    0    0    0    0    0    0    0    0    0  ...      0      0   \n",
              "1         2    0    0    0    0    0    0    0    0    0  ...      0      0   \n",
              "2         1    0    0    0    0    0    0    0    0    0  ...      0      0   \n",
              "3         0    0    0    0    0    0    0    0    0    0  ...      0      0   \n",
              "4         4    0    0    0    0    0    0    0    0    0  ...      0      0   \n",
              "...     ...  ...  ...  ...  ...  ...  ...  ...  ...  ...  ...    ...    ...   \n",
              "9995      2    0    0    0    0    0    0    0    0    0  ...      0      0   \n",
              "9996      3    0    0    0    0    0    0    0    0    0  ...      0      0   \n",
              "9997      4    0    0    0    0    0    0    0    0    0  ...      0      0   \n",
              "9998      5    0    0    0    0    0    0    0    0    0  ...      0      0   \n",
              "9999      6    0    0    0    0    0    0    0    0    0  ...      0      0   \n",
              "\n",
              "      28x21  28x22  28x23  28x24  28x25  28x26  28x27  28x28  \n",
              "0         0      0      0      0      0      0      0      0  \n",
              "1         0      0      0      0      0      0      0      0  \n",
              "2         0      0      0      0      0      0      0      0  \n",
              "3         0      0      0      0      0      0      0      0  \n",
              "4         0      0      0      0      0      0      0      0  \n",
              "...     ...    ...    ...    ...    ...    ...    ...    ...  \n",
              "9995      0      0      0      0      0      0      0      0  \n",
              "9996      0      0      0      0      0      0      0      0  \n",
              "9997      0      0      0      0      0      0      0      0  \n",
              "9998      0      0      0      0      0      0      0      0  \n",
              "9999      0      0      0      0      0      0      0      0  \n",
              "\n",
              "[10000 rows x 785 columns]"
            ],
            "text/html": [
              "\n",
              "  <div id=\"df-4680d2f0-9047-44a7-8f7d-e2c6b624ee57\">\n",
              "    <div class=\"colab-df-container\">\n",
              "      <div>\n",
              "<style scoped>\n",
              "    .dataframe tbody tr th:only-of-type {\n",
              "        vertical-align: middle;\n",
              "    }\n",
              "\n",
              "    .dataframe tbody tr th {\n",
              "        vertical-align: top;\n",
              "    }\n",
              "\n",
              "    .dataframe thead th {\n",
              "        text-align: right;\n",
              "    }\n",
              "</style>\n",
              "<table border=\"1\" class=\"dataframe\">\n",
              "  <thead>\n",
              "    <tr style=\"text-align: right;\">\n",
              "      <th></th>\n",
              "      <th>label</th>\n",
              "      <th>1x1</th>\n",
              "      <th>1x2</th>\n",
              "      <th>1x3</th>\n",
              "      <th>1x4</th>\n",
              "      <th>1x5</th>\n",
              "      <th>1x6</th>\n",
              "      <th>1x7</th>\n",
              "      <th>1x8</th>\n",
              "      <th>1x9</th>\n",
              "      <th>...</th>\n",
              "      <th>28x19</th>\n",
              "      <th>28x20</th>\n",
              "      <th>28x21</th>\n",
              "      <th>28x22</th>\n",
              "      <th>28x23</th>\n",
              "      <th>28x24</th>\n",
              "      <th>28x25</th>\n",
              "      <th>28x26</th>\n",
              "      <th>28x27</th>\n",
              "      <th>28x28</th>\n",
              "    </tr>\n",
              "  </thead>\n",
              "  <tbody>\n",
              "    <tr>\n",
              "      <th>0</th>\n",
              "      <td>7</td>\n",
              "      <td>0</td>\n",
              "      <td>0</td>\n",
              "      <td>0</td>\n",
              "      <td>0</td>\n",
              "      <td>0</td>\n",
              "      <td>0</td>\n",
              "      <td>0</td>\n",
              "      <td>0</td>\n",
              "      <td>0</td>\n",
              "      <td>...</td>\n",
              "      <td>0</td>\n",
              "      <td>0</td>\n",
              "      <td>0</td>\n",
              "      <td>0</td>\n",
              "      <td>0</td>\n",
              "      <td>0</td>\n",
              "      <td>0</td>\n",
              "      <td>0</td>\n",
              "      <td>0</td>\n",
              "      <td>0</td>\n",
              "    </tr>\n",
              "    <tr>\n",
              "      <th>1</th>\n",
              "      <td>2</td>\n",
              "      <td>0</td>\n",
              "      <td>0</td>\n",
              "      <td>0</td>\n",
              "      <td>0</td>\n",
              "      <td>0</td>\n",
              "      <td>0</td>\n",
              "      <td>0</td>\n",
              "      <td>0</td>\n",
              "      <td>0</td>\n",
              "      <td>...</td>\n",
              "      <td>0</td>\n",
              "      <td>0</td>\n",
              "      <td>0</td>\n",
              "      <td>0</td>\n",
              "      <td>0</td>\n",
              "      <td>0</td>\n",
              "      <td>0</td>\n",
              "      <td>0</td>\n",
              "      <td>0</td>\n",
              "      <td>0</td>\n",
              "    </tr>\n",
              "    <tr>\n",
              "      <th>2</th>\n",
              "      <td>1</td>\n",
              "      <td>0</td>\n",
              "      <td>0</td>\n",
              "      <td>0</td>\n",
              "      <td>0</td>\n",
              "      <td>0</td>\n",
              "      <td>0</td>\n",
              "      <td>0</td>\n",
              "      <td>0</td>\n",
              "      <td>0</td>\n",
              "      <td>...</td>\n",
              "      <td>0</td>\n",
              "      <td>0</td>\n",
              "      <td>0</td>\n",
              "      <td>0</td>\n",
              "      <td>0</td>\n",
              "      <td>0</td>\n",
              "      <td>0</td>\n",
              "      <td>0</td>\n",
              "      <td>0</td>\n",
              "      <td>0</td>\n",
              "    </tr>\n",
              "    <tr>\n",
              "      <th>3</th>\n",
              "      <td>0</td>\n",
              "      <td>0</td>\n",
              "      <td>0</td>\n",
              "      <td>0</td>\n",
              "      <td>0</td>\n",
              "      <td>0</td>\n",
              "      <td>0</td>\n",
              "      <td>0</td>\n",
              "      <td>0</td>\n",
              "      <td>0</td>\n",
              "      <td>...</td>\n",
              "      <td>0</td>\n",
              "      <td>0</td>\n",
              "      <td>0</td>\n",
              "      <td>0</td>\n",
              "      <td>0</td>\n",
              "      <td>0</td>\n",
              "      <td>0</td>\n",
              "      <td>0</td>\n",
              "      <td>0</td>\n",
              "      <td>0</td>\n",
              "    </tr>\n",
              "    <tr>\n",
              "      <th>4</th>\n",
              "      <td>4</td>\n",
              "      <td>0</td>\n",
              "      <td>0</td>\n",
              "      <td>0</td>\n",
              "      <td>0</td>\n",
              "      <td>0</td>\n",
              "      <td>0</td>\n",
              "      <td>0</td>\n",
              "      <td>0</td>\n",
              "      <td>0</td>\n",
              "      <td>...</td>\n",
              "      <td>0</td>\n",
              "      <td>0</td>\n",
              "      <td>0</td>\n",
              "      <td>0</td>\n",
              "      <td>0</td>\n",
              "      <td>0</td>\n",
              "      <td>0</td>\n",
              "      <td>0</td>\n",
              "      <td>0</td>\n",
              "      <td>0</td>\n",
              "    </tr>\n",
              "    <tr>\n",
              "      <th>...</th>\n",
              "      <td>...</td>\n",
              "      <td>...</td>\n",
              "      <td>...</td>\n",
              "      <td>...</td>\n",
              "      <td>...</td>\n",
              "      <td>...</td>\n",
              "      <td>...</td>\n",
              "      <td>...</td>\n",
              "      <td>...</td>\n",
              "      <td>...</td>\n",
              "      <td>...</td>\n",
              "      <td>...</td>\n",
              "      <td>...</td>\n",
              "      <td>...</td>\n",
              "      <td>...</td>\n",
              "      <td>...</td>\n",
              "      <td>...</td>\n",
              "      <td>...</td>\n",
              "      <td>...</td>\n",
              "      <td>...</td>\n",
              "      <td>...</td>\n",
              "    </tr>\n",
              "    <tr>\n",
              "      <th>9995</th>\n",
              "      <td>2</td>\n",
              "      <td>0</td>\n",
              "      <td>0</td>\n",
              "      <td>0</td>\n",
              "      <td>0</td>\n",
              "      <td>0</td>\n",
              "      <td>0</td>\n",
              "      <td>0</td>\n",
              "      <td>0</td>\n",
              "      <td>0</td>\n",
              "      <td>...</td>\n",
              "      <td>0</td>\n",
              "      <td>0</td>\n",
              "      <td>0</td>\n",
              "      <td>0</td>\n",
              "      <td>0</td>\n",
              "      <td>0</td>\n",
              "      <td>0</td>\n",
              "      <td>0</td>\n",
              "      <td>0</td>\n",
              "      <td>0</td>\n",
              "    </tr>\n",
              "    <tr>\n",
              "      <th>9996</th>\n",
              "      <td>3</td>\n",
              "      <td>0</td>\n",
              "      <td>0</td>\n",
              "      <td>0</td>\n",
              "      <td>0</td>\n",
              "      <td>0</td>\n",
              "      <td>0</td>\n",
              "      <td>0</td>\n",
              "      <td>0</td>\n",
              "      <td>0</td>\n",
              "      <td>...</td>\n",
              "      <td>0</td>\n",
              "      <td>0</td>\n",
              "      <td>0</td>\n",
              "      <td>0</td>\n",
              "      <td>0</td>\n",
              "      <td>0</td>\n",
              "      <td>0</td>\n",
              "      <td>0</td>\n",
              "      <td>0</td>\n",
              "      <td>0</td>\n",
              "    </tr>\n",
              "    <tr>\n",
              "      <th>9997</th>\n",
              "      <td>4</td>\n",
              "      <td>0</td>\n",
              "      <td>0</td>\n",
              "      <td>0</td>\n",
              "      <td>0</td>\n",
              "      <td>0</td>\n",
              "      <td>0</td>\n",
              "      <td>0</td>\n",
              "      <td>0</td>\n",
              "      <td>0</td>\n",
              "      <td>...</td>\n",
              "      <td>0</td>\n",
              "      <td>0</td>\n",
              "      <td>0</td>\n",
              "      <td>0</td>\n",
              "      <td>0</td>\n",
              "      <td>0</td>\n",
              "      <td>0</td>\n",
              "      <td>0</td>\n",
              "      <td>0</td>\n",
              "      <td>0</td>\n",
              "    </tr>\n",
              "    <tr>\n",
              "      <th>9998</th>\n",
              "      <td>5</td>\n",
              "      <td>0</td>\n",
              "      <td>0</td>\n",
              "      <td>0</td>\n",
              "      <td>0</td>\n",
              "      <td>0</td>\n",
              "      <td>0</td>\n",
              "      <td>0</td>\n",
              "      <td>0</td>\n",
              "      <td>0</td>\n",
              "      <td>...</td>\n",
              "      <td>0</td>\n",
              "      <td>0</td>\n",
              "      <td>0</td>\n",
              "      <td>0</td>\n",
              "      <td>0</td>\n",
              "      <td>0</td>\n",
              "      <td>0</td>\n",
              "      <td>0</td>\n",
              "      <td>0</td>\n",
              "      <td>0</td>\n",
              "    </tr>\n",
              "    <tr>\n",
              "      <th>9999</th>\n",
              "      <td>6</td>\n",
              "      <td>0</td>\n",
              "      <td>0</td>\n",
              "      <td>0</td>\n",
              "      <td>0</td>\n",
              "      <td>0</td>\n",
              "      <td>0</td>\n",
              "      <td>0</td>\n",
              "      <td>0</td>\n",
              "      <td>0</td>\n",
              "      <td>...</td>\n",
              "      <td>0</td>\n",
              "      <td>0</td>\n",
              "      <td>0</td>\n",
              "      <td>0</td>\n",
              "      <td>0</td>\n",
              "      <td>0</td>\n",
              "      <td>0</td>\n",
              "      <td>0</td>\n",
              "      <td>0</td>\n",
              "      <td>0</td>\n",
              "    </tr>\n",
              "  </tbody>\n",
              "</table>\n",
              "<p>10000 rows × 785 columns</p>\n",
              "</div>\n",
              "      <button class=\"colab-df-convert\" onclick=\"convertToInteractive('df-4680d2f0-9047-44a7-8f7d-e2c6b624ee57')\"\n",
              "              title=\"Convert this dataframe to an interactive table.\"\n",
              "              style=\"display:none;\">\n",
              "        \n",
              "  <svg xmlns=\"http://www.w3.org/2000/svg\" height=\"24px\"viewBox=\"0 0 24 24\"\n",
              "       width=\"24px\">\n",
              "    <path d=\"M0 0h24v24H0V0z\" fill=\"none\"/>\n",
              "    <path d=\"M18.56 5.44l.94 2.06.94-2.06 2.06-.94-2.06-.94-.94-2.06-.94 2.06-2.06.94zm-11 1L8.5 8.5l.94-2.06 2.06-.94-2.06-.94L8.5 2.5l-.94 2.06-2.06.94zm10 10l.94 2.06.94-2.06 2.06-.94-2.06-.94-.94-2.06-.94 2.06-2.06.94z\"/><path d=\"M17.41 7.96l-1.37-1.37c-.4-.4-.92-.59-1.43-.59-.52 0-1.04.2-1.43.59L10.3 9.45l-7.72 7.72c-.78.78-.78 2.05 0 2.83L4 21.41c.39.39.9.59 1.41.59.51 0 1.02-.2 1.41-.59l7.78-7.78 2.81-2.81c.8-.78.8-2.07 0-2.86zM5.41 20L4 18.59l7.72-7.72 1.47 1.35L5.41 20z\"/>\n",
              "  </svg>\n",
              "      </button>\n",
              "      \n",
              "  <style>\n",
              "    .colab-df-container {\n",
              "      display:flex;\n",
              "      flex-wrap:wrap;\n",
              "      gap: 12px;\n",
              "    }\n",
              "\n",
              "    .colab-df-convert {\n",
              "      background-color: #E8F0FE;\n",
              "      border: none;\n",
              "      border-radius: 50%;\n",
              "      cursor: pointer;\n",
              "      display: none;\n",
              "      fill: #1967D2;\n",
              "      height: 32px;\n",
              "      padding: 0 0 0 0;\n",
              "      width: 32px;\n",
              "    }\n",
              "\n",
              "    .colab-df-convert:hover {\n",
              "      background-color: #E2EBFA;\n",
              "      box-shadow: 0px 1px 2px rgba(60, 64, 67, 0.3), 0px 1px 3px 1px rgba(60, 64, 67, 0.15);\n",
              "      fill: #174EA6;\n",
              "    }\n",
              "\n",
              "    [theme=dark] .colab-df-convert {\n",
              "      background-color: #3B4455;\n",
              "      fill: #D2E3FC;\n",
              "    }\n",
              "\n",
              "    [theme=dark] .colab-df-convert:hover {\n",
              "      background-color: #434B5C;\n",
              "      box-shadow: 0px 1px 3px 1px rgba(0, 0, 0, 0.15);\n",
              "      filter: drop-shadow(0px 1px 2px rgba(0, 0, 0, 0.3));\n",
              "      fill: #FFFFFF;\n",
              "    }\n",
              "  </style>\n",
              "\n",
              "      <script>\n",
              "        const buttonEl =\n",
              "          document.querySelector('#df-4680d2f0-9047-44a7-8f7d-e2c6b624ee57 button.colab-df-convert');\n",
              "        buttonEl.style.display =\n",
              "          google.colab.kernel.accessAllowed ? 'block' : 'none';\n",
              "\n",
              "        async function convertToInteractive(key) {\n",
              "          const element = document.querySelector('#df-4680d2f0-9047-44a7-8f7d-e2c6b624ee57');\n",
              "          const dataTable =\n",
              "            await google.colab.kernel.invokeFunction('convertToInteractive',\n",
              "                                                     [key], {});\n",
              "          if (!dataTable) return;\n",
              "\n",
              "          const docLinkHtml = 'Like what you see? Visit the ' +\n",
              "            '<a target=\"_blank\" href=https://colab.research.google.com/notebooks/data_table.ipynb>data table notebook</a>'\n",
              "            + ' to learn more about interactive tables.';\n",
              "          element.innerHTML = '';\n",
              "          dataTable['output_type'] = 'display_data';\n",
              "          await google.colab.output.renderOutput(dataTable, element);\n",
              "          const docLink = document.createElement('div');\n",
              "          docLink.innerHTML = docLinkHtml;\n",
              "          element.appendChild(docLink);\n",
              "        }\n",
              "      </script>\n",
              "    </div>\n",
              "  </div>\n",
              "  "
            ]
          },
          "metadata": {},
          "execution_count": 19
        }
      ]
    },
    {
      "cell_type": "code",
      "source": [
        "Label_set = [str(i) for i in range(0,10)]\n",
        "\n",
        "# Label별로 100개의 데이터만 추출하여 DataFrame 재구성\n",
        "\n",
        "for Label in Label_set:\n",
        "  globals()['label_'+str(Label)] = []\n",
        "  for i in range(len(Data_set)):\n",
        "    if Data_set.iloc[i,0] == int(Label):\n",
        "      globals()['label_'+str(Label)].append(i)\n",
        "    if len(globals()['label_'+str(Label)]) == 100:\n",
        "      break \n",
        "\n",
        "new_Data_set = pd.DataFrame([], columns = Data_set.columns)\n",
        "\n",
        "for i in range(10):  \n",
        "  globals()['DataFrame_'+str(i)] = Data_set.iloc[globals()['label_'+str(i)],:]\n",
        "  #print(globals()['DataFrame_'+str(i)])\n",
        "  new_Data_set= pd.concat([new_Data_set, globals()['DataFrame_'+str(i)]])\n",
        "\n",
        "new_Data_set = new_Data_set.reset_index(drop=True)\n",
        "\n",
        "print(len(new_Data_set))"
      ],
      "metadata": {
        "colab": {
          "base_uri": "https://localhost:8080/"
        },
        "id": "-SwnYlRVc5MT",
        "outputId": "3a9144d4-3c35-4ae8-c679-98d6183c69b6"
      },
      "execution_count": 20,
      "outputs": [
        {
          "output_type": "stream",
          "name": "stdout",
          "text": [
            "1000\n"
          ]
        }
      ]
    },
    {
      "cell_type": "code",
      "source": [
        "List_set = [str(i) for i in range(0,10)]\n",
        "for number in List_set:\n",
        "    globals()['img_'+str(number)] = []\n",
        "    for i in range(len(new_Data_set)):\n",
        "        if new_Data_set.iloc[i,0] == int(number):\n",
        "            globals()['img_'+str(number)].append(new_Data_set.iloc[i,1:].values)     \n",
        "        if len(globals()['img_'+str(number)]) >=1:\n",
        "            break"
      ],
      "metadata": {
        "id": "uPcDgzuwdE7a"
      },
      "execution_count": 21,
      "outputs": []
    },
    {
      "cell_type": "code",
      "source": [
        "tf = transforms.ToTensor()\n",
        "tf2 = transforms.ToPILImage()\n",
        "for number in List_set:\n",
        "    img = globals()['img_'+str(number)][0].astype(np.float64)\n",
        "    img = img.reshape(28,28)\n",
        "    img_t = tf(img)\n",
        "    img_t = img_t.reshape(28,28)    \n",
        "    plt.imshow(img_t,cmap='gray')\n",
        "    plt.show()"
      ],
      "metadata": {
        "colab": {
          "base_uri": "https://localhost:8080/",
          "height": 1000
        },
        "id": "NjgahjyTdtVq",
        "outputId": "b92e299e-5c7a-4419-e773-91fb0df057c0"
      },
      "execution_count": 25,
      "outputs": [
        {
          "output_type": "display_data",
          "data": {
            "text/plain": [
              "<Figure size 432x288 with 1 Axes>"
            ],
            "image/png": "[encoded data removed]"
          },
          "metadata": {
            "needs_background": "light"
          }
        },
        {
          "output_type": "display_data",
          "data": {
            "text/plain": [
              "<Figure size 432x288 with 1 Axes>"
            ],
            "image/png": "[encoded data removed]"
          },
          "metadata": {
            "needs_background": "light"
          }
        },
        {
          "output_type": "display_data",
          "data": {
            "text/plain": [
              "<Figure size 432x288 with 1 Axes>"
            ],
            "image/png": "[encoded data removed]"
          },
          "metadata": {
            "needs_background": "light"
          }
        },
        {
          "output_type": "display_data",
          "data": {
            "text/plain": [
              "<Figure size 432x288 with 1 Axes>"
            ],
            "image/png": "[encoded data removed]"
          },
          "metadata": {
            "needs_background": "light"
          }
        },
        {
          "output_type": "display_data",
          "data": {
            "text/plain": [
              "<Figure size 432x288 with 1 Axes>"
            ],
            "image/png": "[encoded data removed]"
          },
          "metadata": {
            "needs_background": "light"
          }
        },
        {
          "output_type": "display_data",
          "data": {
            "text/plain": [
              "<Figure size 432x288 with 1 Axes>"
            ],
            "image/png": "[encoded data removed]"
          },
          "metadata": {
            "needs_background": "light"
          }
        },
        {
          "output_type": "display_data",
          "data": {
            "text/plain": [
              "<Figure size 432x288 with 1 Axes>"
            ],
            "image/png": "[encoded data removed]"
          },
          "metadata": {
            "needs_background": "light"
          }
        },
        {
          "output_type": "display_data",
          "data": {
            "text/plain": [
              "<Figure size 432x288 with 1 Axes>"
            ],
            "image/png": "[encoded data removed]"
          },
          "metadata": {
            "needs_background": "light"
          }
        },
        {
          "output_type": "display_data",
          "data": {
            "text/plain": [
              "<Figure size 432x288 with 1 Axes>"
            ],
            "image/png": "[encoded data removed]"
          },
          "metadata": {
            "needs_background": "light"
          }
        },
        {
          "output_type": "display_data",
          "data": {
            "text/plain": [
              "<Figure size 432x288 with 1 Axes>"
            ],
            "image/png": "[encoded data removed]"
          },
          "metadata": {
            "needs_background": "light"
          }
        }
      ]
    },
    {
      "cell_type": "markdown",
      "source": [
        "# LLE 적용"
      ],
      "metadata": {
        "id": "3sAOCRCzeCY_"
      }
    },
    {
      "cell_type": "code",
      "source": [
        "evals, evecs, y = LLE(new_Data_set.iloc[:,1:].values)"
      ],
      "metadata": {
        "id": "tcJT07fZfsBO"
      },
      "execution_count": null,
      "outputs": []
    },
    {
      "cell_type": "markdown",
      "source": [
        "# 시각화"
      ],
      "metadata": {
        "id": "6_MHvfeeeUEB"
      }
    },
    {
      "cell_type": "code",
      "source": [
        "B = pd.DataFrame(y)\n",
        "B['Label'] = new_Data_set.iloc[:,0].values\n",
        "label = B['Label'].unique()"
      ],
      "metadata": {
        "id": "FLVCnfxZeB5u"
      },
      "execution_count": null,
      "outputs": []
    },
    {
      "cell_type": "code",
      "source": [
        "Label0 = B[B['Label']==0]\n",
        "Label1 = B[B['Label']==1]\n",
        "Label2 = B[B['Label']==2]\n",
        "Label3 = B[B['Label']==3]\n",
        "Label4 = B[B['Label']==4]\n",
        "Label5 = B[B['Label']==5]\n",
        "Label6 = B[B['Label']==6]\n",
        "Label7 = B[B['Label']==7]\n",
        "Label8 = B[B['Label']==8]\n",
        "Label9 = B[B['Label']==9]"
      ],
      "metadata": {
        "id": "XG4gWWXieYQG"
      },
      "execution_count": null,
      "outputs": []
    },
    {
      "cell_type": "code",
      "source": [
        "# 2차원\n",
        "plt.figure()  \n",
        "plt.scatter(Label0.iloc[:,0],Label0.iloc[:,1],s=50, label='0')\n",
        "plt.scatter(Label1.iloc[:,0],Label1.iloc[:,1],s=50, label='1')\n",
        "plt.scatter(Label2.iloc[:,0],Label2.iloc[:,1],s=50, label='2')\n",
        "plt.scatter(Label3.iloc[:,0],Label3.iloc[:,1],s=50, label='3')\n",
        "plt.scatter(Label4.iloc[:,0],Label4.iloc[:,1],s=50, label='4')\n",
        "plt.scatter(Label5.iloc[:,0],Label5.iloc[:,1],s=50, label='5')\n",
        "plt.scatter(Label6.iloc[:,0],Label6.iloc[:,1],s=50, label='6')\n",
        "plt.scatter(Label7.iloc[:,0],Label7.iloc[:,1],s=50, label='7')\n",
        "plt.scatter(Label8.iloc[:,0],Label8.iloc[:,1],s=50, label='8')\n",
        "plt.scatter(Label9.iloc[:,0],Label9.iloc[:,1],s=50, label='9')\n",
        "plt.legend()\n",
        "\n",
        "plt.show()"
      ],
      "metadata": {
        "id": "g_-2XfzleavP"
      },
      "execution_count": null,
      "outputs": []
    }
  ]
}